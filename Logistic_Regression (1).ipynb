{
  "nbformat": 4,
  "nbformat_minor": 0,
  "metadata": {
    "colab": {
      "provenance": []
    },
    "kernelspec": {
      "name": "python3",
      "display_name": "Python 3"
    },
    "language_info": {
      "name": "python"
    }
  },
  "cells": [
    {
      "cell_type": "markdown",
      "source": [
        "# Theoretical"
      ],
      "metadata": {
        "id": "z0qMrYV49fV6"
      }
    },
    {
      "cell_type": "markdown",
      "source": [
        "1.What is Logistic Regression, and how does it differ from Linear Regression."
      ],
      "metadata": {
        "id": "lNF8WYtz85oH"
      }
    },
    {
      "cell_type": "code",
      "source": [
        "\"\"\"\n",
        "Logistic Regression is a statistical technique used for binary classification, helping to predict\n",
        "outcomes that fall into one of two categories (such as Yes/No or 0/1). Unlike methods that predict\n",
        "continuous numerical values, Logistic Regression uses a sigmoid function to transform outputs into a\n",
        "range between 0 and 1, making it ideal for classification problems.\n",
        "\"\"\""
      ],
      "metadata": {
        "id": "xn77NcB8INSF"
      },
      "execution_count": 1,
      "outputs": []
    },
    {
      "cell_type": "markdown",
      "source": [
        "2.What is the mathematical equation of Logistic Regression.\n",
        "\n"
      ],
      "metadata": {
        "id": "ylJNTYtZ85q0"
      }
    },
    {
      "cell_type": "code",
      "source": [
        "\"\"\"\n",
        "The Logistic Regression equation is used to calculate the probability that the outcome belongs\n",
        "to the positive class (i.e., Y = 1). In this equation:\n",
        "\n",
        "\n",
        "P(Y=1)= 1/(1+e^-(B0+B1X1+B2X2+....+BnXn))\n",
        "\n",
        "\n",
        "P(Y = 1) represents the likelihood of the positive outcome.\n",
        "\n",
        "β₀ is the intercept term (a constant), and βᵢ are the weights or coefficients for each input feature.\n",
        "\n",
        "Xᵢ are the independent variables or input features used to make the prediction.\n",
        "\n",
        "\"\"\""
      ],
      "metadata": {
        "id": "DNxPE8YoINp7"
      },
      "execution_count": null,
      "outputs": []
    },
    {
      "cell_type": "markdown",
      "source": [
        "3.Why do we use the Sigmoid function in Logistic Regression"
      ],
      "metadata": {
        "id": "Ujdgw_W885tw"
      }
    },
    {
      "cell_type": "code",
      "source": [
        "\"\"\"\n",
        "The sigmoid function transforms any input into a value between 0 and 1, which makes it ideal for\n",
        "classification tasks. This allows the output to be interpreted as a probability, helping to decide\n",
        "how likely it is that a given input belongs to a particular class.\n",
        "\"\"\""
      ],
      "metadata": {
        "id": "0n5nsFFCIN7n"
      },
      "execution_count": null,
      "outputs": []
    },
    {
      "cell_type": "markdown",
      "source": [
        "4.What is the cost function of Logistic Regression"
      ],
      "metadata": {
        "id": "5IXec1-385xB"
      }
    },
    {
      "cell_type": "code",
      "source": [
        "\"\"\"\n",
        "Log Loss calculates the error between the predicted probability and the actual outcome.\n",
        "It assigns a higher penalty when the model is confident but wrong, making it well-suited\n",
        "for classification tasks.\n",
        "\n",
        "          m\n",
        "J(θ)=−1/m ∑ yilog(h(xi))+(1-yi)log(1-h(xi))]\n",
        "         i=1\n",
        "\n",
        "\n",
        "\"\"\""
      ],
      "metadata": {
        "colab": {
          "base_uri": "https://localhost:8080/",
          "height": 53
        },
        "id": "3gOFZCQ1IOTC",
        "outputId": "b2f4090c-68a9-4db2-ce46-c0c762ac5783"
      },
      "execution_count": 2,
      "outputs": [
        {
          "output_type": "execute_result",
          "data": {
            "text/plain": [
              "'\\nLog Loss calculates the error between the predicted probability and the actual outcome. It assigns a higher penalty when the model is confident but wrong, making it well-suited for classification tasks.\\n'"
            ],
            "application/vnd.google.colaboratory.intrinsic+json": {
              "type": "string"
            }
          },
          "metadata": {},
          "execution_count": 2
        }
      ]
    },
    {
      "cell_type": "markdown",
      "source": [
        "5.What is Regularization in Logistic Regression? Why is it needed."
      ],
      "metadata": {
        "id": "7xCnLlzu850L"
      }
    },
    {
      "cell_type": "code",
      "source": [
        "\"\"\"\n",
        "Regularization helps avoid overfitting by adding an extra term to the loss function that\n",
        "penalizes large coefficients. This keeps the model simpler and more general, especially\n",
        "when working with datasets that have many features.\n",
        "\n",
        "There are two main types of regularization:\n",
        "\n",
        "Lasso (L1 Regularization): Pushes some coefficients all the way to zero, effectively removing\n",
        "less important features—so it's also useful for feature selection.\n",
        "\n",
        "Ridge (L2 Regularization): Reduces the size of the coefficients but doesn't make them exactly\n",
        "zero, helping to lower model complexity without removing features.\n",
        "\"\"\""
      ],
      "metadata": {
        "id": "JIYYreicIOpb"
      },
      "execution_count": null,
      "outputs": []
    },
    {
      "cell_type": "markdown",
      "source": [
        "6.Explain the difference between Lasso, Ridge, and Elastic Net regressionC"
      ],
      "metadata": {
        "id": "WJDsezZT853P"
      }
    },
    {
      "cell_type": "code",
      "source": [
        "\"\"\"\n",
        "-Lasso (L1 Regularization): Adds absolute penalty (λ∑∣w∣\\lambda \\sum |w|), leading to some coefficients\n",
        " being exactly zero (feature selection)'\n",
        "\n",
        "-Ridge (L2 Regularization): Adds squared penalty (λ∑w2\\lambda \\sum w^2), reducing coefficients but not\n",
        " setting them to zero\n",
        "\n",
        " -Elastic Net: A combination of L1 and L2 penalties, balancing feature selection and coefficient shrinkage.\n",
        "\"\"\""
      ],
      "metadata": {
        "colab": {
          "base_uri": "https://localhost:8080/",
          "height": 36
        },
        "id": "JDJrpH_4IO-e",
        "outputId": "c3ee7510-2e9f-49eb-bd0d-ee8766a9e590"
      },
      "execution_count": 3,
      "outputs": [
        {
          "output_type": "execute_result",
          "data": {
            "text/plain": [
              "'\\nLasso (L1 Regularization): Adds absolute penalty (λ∑∣w∣\\\\lambda \\\\sum |w|), leading to some coefficients \\nbeing exactly zero (feature selection)\\n'"
            ],
            "application/vnd.google.colaboratory.intrinsic+json": {
              "type": "string"
            }
          },
          "metadata": {},
          "execution_count": 3
        }
      ]
    },
    {
      "cell_type": "markdown",
      "source": [
        "7.When should we use Elastic Net instead of Lasso or Ridge"
      ],
      "metadata": {
        "id": "ZH6oL3Sg856B"
      }
    },
    {
      "cell_type": "code",
      "source": [
        "\"\"\"\n",
        "Elastic Net is especially helpful in the following situations:\n",
        "\n",
        "-When the dataset has highly correlated features, since Lasso might pick one and ignore others, while\n",
        "Elastic Net can keep a balanced mix.\n",
        "\n",
        "-When you're working with high-dimensional data that includes many unimportant features—Elastic Net\n",
        "helps handle this more effectively.\n",
        "\n",
        "-When you need the benefits of both feature selection (from L1) and coefficient shrinking (from L2)\n",
        "in a single model.\n",
        "\"\"\""
      ],
      "metadata": {
        "id": "o4w79RChIPMN"
      },
      "execution_count": null,
      "outputs": []
    },
    {
      "cell_type": "markdown",
      "source": [
        "8.What is the impact of the regularization parameter (λ) in Logistic Regression"
      ],
      "metadata": {
        "id": "LUbHXQHL859D"
      }
    },
    {
      "cell_type": "code",
      "source": [
        "\"\"\"\n",
        "- High λ\\lambda → Strong regularization, reducing overfitting but may lead to underfitting\n",
        "- Low λ\\lambda → Weak regularization, allowing more complex models, increasing overfitting risk\n",
        "- Optimal λ\\lambda is chosen via cross-validation.\n",
        "\"\"\""
      ],
      "metadata": {
        "id": "KUolI_Y1IPvF"
      },
      "execution_count": null,
      "outputs": []
    },
    {
      "cell_type": "markdown",
      "source": [
        "9.What are the key assumptions of Logistic Regression"
      ],
      "metadata": {
        "id": "r-xDRs2685_q"
      }
    },
    {
      "cell_type": "code",
      "source": [
        "\"\"\"\n",
        "-The target variable has two possible outcomes (e.g., yes/no, 0/1), which suits binary classification.\n",
        "\n",
        "-The input features should not be strongly correlated with each other (to avoid multicollinearity).\n",
        "\n",
        "-There should be a linear relationship between the independent variables and the log-odds of the\n",
        "target variable, not necessarily with the variable itself.\n",
        "\n",
        "-The classes in the dataset should be fairly balanced; if one class dominates, methods like oversampling\n",
        "or undersampling may be needed to improve model performance.\n",
        "\"\"\""
      ],
      "metadata": {
        "id": "LGOKqpvCIP_U"
      },
      "execution_count": null,
      "outputs": []
    },
    {
      "cell_type": "markdown",
      "source": [
        "10.What are some alternatives to Logistic Regression for classification tasks"
      ],
      "metadata": {
        "id": "TIM5OpMT86CU"
      }
    },
    {
      "cell_type": "code",
      "source": [
        "\"\"\"\n",
        " There are some alternatives to Logistic Regression for classification tasks:\n",
        " Support Vector Machines (SVM\n",
        " Decision Tree\n",
        " Random Fores\n",
        " Gradient Boosting (XGBoost, LightGBM\n",
        " Neural Networks\n",
        "\"\"\""
      ],
      "metadata": {
        "colab": {
          "base_uri": "https://localhost:8080/",
          "height": 36
        },
        "id": "E7l_jNu_IQU5",
        "outputId": "c562144a-3d2e-4325-9260-f0db02daac51"
      },
      "execution_count": 4,
      "outputs": [
        {
          "output_type": "execute_result",
          "data": {
            "text/plain": [
              "'\\n Decision Tree\\n Random Fores\\n Support Vector Machines (SVM\\n Gradient Boosting (XGBoost, LightGBM\\n Neural Networks\\n'"
            ],
            "application/vnd.google.colaboratory.intrinsic+json": {
              "type": "string"
            }
          },
          "metadata": {},
          "execution_count": 4
        }
      ]
    },
    {
      "cell_type": "markdown",
      "source": [
        "11.What are Classification Evaluation Metrics"
      ],
      "metadata": {
        "id": "a09xJTIN86FI"
      }
    },
    {
      "cell_type": "code",
      "source": [
        "\"\"\"\n",
        "Common metrics used to evaluate classification models are:\n",
        "\n",
        "-Accuracy: The ratio of correctly predicted cases to the total number of predictions made.\n",
        "\n",
        "-Precision: Indicates the proportion of predicted positive cases that are truly positive.\n",
        "\n",
        "-Recall (Sensitivity): Shows the percentage of actual positive cases that the model correctly detects.\n",
        "\n",
        "-F1-score: The balance between precision and recall, calculated as their harmonic mean.\n",
        "\n",
        "-ROC-AUC: Reflects how well the model can separate the positive and negative classes across different thresholds.\n",
        "\"\"\""
      ],
      "metadata": {
        "id": "lMX4v_YiIRFY"
      },
      "execution_count": null,
      "outputs": []
    },
    {
      "cell_type": "markdown",
      "source": [
        "12.How does class imbalance affect Logistic Regression"
      ],
      "metadata": {
        "id": "5bA4uhLx9Xwo"
      }
    },
    {
      "cell_type": "code",
      "source": [
        "\"\"\"\n",
        "Class imbalance can cause the model to become biased toward the majority class, making it perform poorly\n",
        "on the minority class. To address this issue, you can use:\n",
        "\n",
        "-Resampling techniques, such as increasing the number of minority class samples (oversampling) or reducing\n",
        "majority class samples (undersampling).\n",
        "\n",
        "-Adjusting class weights so the model gives more importance to the minority class (e.g., by setting class_weight='balanced').\n",
        "\n",
        "-Using more suitable evaluation metrics, like the Precision-Recall curve, which are better at measuring\n",
        "performance on imbalanced data than simple accuracy.\n",
        "\"\"\""
      ],
      "metadata": {
        "id": "ASf1wi7pIRb_"
      },
      "execution_count": null,
      "outputs": []
    },
    {
      "cell_type": "markdown",
      "source": [
        "13.What is Hyperparameter Tuning in Logistic Regression"
      ],
      "metadata": {
        "id": "w14C4XKS9Xpr"
      }
    },
    {
      "cell_type": "code",
      "source": [
        "\"\"\"\n",
        "Hyperparameter tuning is the process of selecting the best settings for a model to improve its performance.\n",
        "For Logistic Regression, commonly adjusted hyperparameters include:\n",
        "\n",
        "-Regularization strength (λ): Controls how much the model penalizes large coefficients, affecting overfitting.\n",
        "\n",
        "-Solver: The algorithm used to optimize the model, such as 'liblinear', 'lbfgs', etc.\n",
        "\n",
        "-Penalty type: Specifies the kind of regularization to use—L1 (Lasso), L2 (Ridge), or Elastic Net—to\n",
        "control model complexity and feature selection.\n",
        "\"\"\""
      ],
      "metadata": {
        "id": "vVY4WiN_IR0m"
      },
      "execution_count": null,
      "outputs": []
    },
    {
      "cell_type": "markdown",
      "source": [
        "14.What are different solvers in Logistic Regression? Which one should be used"
      ],
      "metadata": {
        "id": "cyJ-DXd59XiX"
      }
    },
    {
      "cell_type": "code",
      "source": [
        "\"\"\"\n",
        "In Logistic Regression, solvers are optimization algorithms used to find the best model parameters.\n",
        "Different solvers work better depending on the dataset size, regularization type, and whether the problem\n",
        "is binary or multi-class.\n",
        "\n",
        "-liblinear → Ideal for smaller datasets and simple binary classification tasks.\n",
        "\n",
        "-lbfgs → Well-suited for handling multiclass classification problems efficiently.\n",
        "\n",
        "-saga → Versatile solver that works with L1, L2, and Elastic Net regularization, making it a good choice for\n",
        "a variety of problems.\n",
        "\"\"\""
      ],
      "metadata": {
        "id": "DIDlzQwaISGy"
      },
      "execution_count": null,
      "outputs": []
    },
    {
      "cell_type": "markdown",
      "source": [
        "15.How is Logistic Regression extended for multiclass classification"
      ],
      "metadata": {
        "id": "UjpkxGaP9Xdv"
      }
    },
    {
      "cell_type": "code",
      "source": [
        "\"\"\"\n",
        "Logistic Regression can be adapted for multiclass classification in two main ways:\n",
        "\n",
        "-One-vs-Rest (OvR): Creates a separate binary classifier for each class. Each model learns to distinguish\n",
        "one class from all the others, and the class with the highest score is chosen.\n",
        "\n",
        "-Softmax Regression (Multinomial Logistic Regression): A direct extension of logistic regression that\n",
        "predicts the probability of each class at once. It selects the class with the highest probability among all classes.\n",
        "\"\"\""
      ],
      "metadata": {
        "id": "Cs1PrD1JIShM"
      },
      "execution_count": null,
      "outputs": []
    },
    {
      "cell_type": "markdown",
      "source": [
        "16.What are the advantages and disadvantages of Logistic Regression"
      ],
      "metadata": {
        "id": "qWGIY38x9XZF"
      }
    },
    {
      "cell_type": "code",
      "source": [
        "\"\"\"\n",
        "Advantages:\n",
        "-It's straightforward and easy to understand, making it great for interpretation and explanation.\n",
        "\n",
        "-Performs well when there's a linear relationship between the input features and the log-odds of the outcome.\n",
        "\n",
        " Disadvantages:\n",
        "-It doesn’t handle nonlinear relationships well unless you transform the features.\n",
        "\n",
        "-Assumes that the input features are independent of each other, which may not always be true in real-world data.\n",
        "\"\"\""
      ],
      "metadata": {
        "id": "yUw1ISRzISzN"
      },
      "execution_count": null,
      "outputs": []
    },
    {
      "cell_type": "markdown",
      "source": [
        "17.What are some use cases of Logistic Regression"
      ],
      "metadata": {
        "id": "ZEWNnOGM9XTM"
      }
    },
    {
      "cell_type": "code",
      "source": [
        "\"\"\"\n",
        "Use Cases of Logistic Regression:\n",
        "\n",
        "-Healthcare: Used to predict the likelihood of a disease, such as determining whether a patient has diabetes or not.\n",
        "-Email Filtering: Helps identify and classify emails as spam or legitimate.\n",
        "-Financial Services: Assists in evaluating credit risk, such as deciding whether to approve or reject a loan application.\n",
        "\"\"\""
      ],
      "metadata": {
        "id": "iAjMkuolITZA"
      },
      "execution_count": null,
      "outputs": []
    },
    {
      "cell_type": "markdown",
      "source": [
        "18.What is the difference between Softmax Regression and Logistic Regression"
      ],
      "metadata": {
        "id": "4Cyu4Ema9XNp"
      }
    },
    {
      "cell_type": "code",
      "source": [
        "\"\"\"\n",
        "-Logistic Regression is designed for binary classification, where the goal is to distinguish between two classes.while,\n",
        "Softmax Regression is an extension used for multiclass classification, where it calculates the probability\n",
        "for each class and selects the one with the highest probability.\n",
        "\"\"\""
      ],
      "metadata": {
        "id": "097h4itSIT0G"
      },
      "execution_count": null,
      "outputs": []
    },
    {
      "cell_type": "markdown",
      "source": [
        "19.How do we choose between One-vs-Rest (OvR) and Softmax for multiclass classification"
      ],
      "metadata": {
        "id": "oZaZxh199XHl"
      }
    },
    {
      "cell_type": "code",
      "source": [
        "\"\"\"\n",
        "-One-vs-Rest (OvR): Builds a separate binary classifier for each class. It's a good choice when the dataset has\n",
        " uneven class distribution or when you want a simpler and more interpretable model.\n",
        "\n",
        "-Softmax (Multinomial Logistic Regression): Predicts all class probabilities in a single model. It works best when\n",
        "the classes are fairly balanced and you need a clear probabilistic output for each class.\n",
        "\n",
        "\"\"\""
      ],
      "metadata": {
        "id": "U8s6RI6wIUHF"
      },
      "execution_count": null,
      "outputs": []
    },
    {
      "cell_type": "markdown",
      "source": [
        "20.How do we interpret coefficients in Logistic Regression"
      ],
      "metadata": {
        "id": "kTpmxJLh9XBm"
      }
    },
    {
      "cell_type": "code",
      "source": [
        "\"\"\"\n",
        "In Logistic Regression, each coefficient (𝛽𝑖) shows how a one-unit increase in a feature affects the log-odds of the outcome:\n",
        "e^𝛽𝑖\n",
        "If 𝛽𝑖>0: The feature increases the chances of the positive class.\n",
        "\n",
        "If 𝛽𝑖<0 The feature reduces the chances of the positive class.\n",
        "\n",
        "If 𝛽𝑖=0The feature has no influence on the prediction.\n",
        "\"\"\""
      ],
      "metadata": {
        "colab": {
          "base_uri": "https://localhost:8080/",
          "height": 53
        },
        "id": "C2aqJLMnIUaG",
        "outputId": "f4c45363-92e9-40b4-be12-d503c931d2fe"
      },
      "execution_count": 2,
      "outputs": [
        {
          "output_type": "execute_result",
          "data": {
            "text/plain": [
              "'\\nIn Logistic Regression, each coefficient (𝛽𝑖) shows how a one-unit increase in a feature affects the log-odds of the outcome:\\ne^𝛽𝑖\\nIf 𝛽𝑖>0: The feature increases the chances of the positive class.\\n\\nIf 𝛽𝑖<0 The feature reduces the chances of the positive class.\\n\\nIf 𝛽𝑖=0The feature has no influence on the prediction.\\n'"
            ],
            "application/vnd.google.colaboratory.intrinsic+json": {
              "type": "string"
            }
          },
          "metadata": {},
          "execution_count": 2
        }
      ]
    },
    {
      "cell_type": "markdown",
      "source": [
        "# practical"
      ],
      "metadata": {
        "id": "4fXIyaI6CqYr"
      }
    },
    {
      "cell_type": "markdown",
      "source": [
        "1.Write a Python program that loads a dataset, splits it into training and testing sets, applies Logistic\n",
        "Regression, and prints the model accuracy"
      ],
      "metadata": {
        "id": "2mfQaOjTCqL8"
      }
    },
    {
      "cell_type": "code",
      "source": [
        "from sklearn.datasets import load_breast_cancer\n",
        "from sklearn.model_selection import train_test_split\n",
        "from sklearn.preprocessing import StandardScaler\n",
        "from sklearn.linear_model import LogisticRegression\n",
        "from sklearn.metrics import accuracy_score\n",
        "\n",
        "# Step 1: Load the dataset\n",
        "data = load_breast_cancer()\n",
        "X = data.data\n",
        "y = data.target\n",
        "\n",
        "# Step 2: Scale the features\n",
        "scaler = StandardScaler()\n",
        "X_scaled = scaler.fit_transform(X)\n",
        "\n",
        "# Step 3: Split the dataset into training and testing sets\n",
        "X_train, X_test, y_train, y_test = train_test_split(\n",
        "    X_scaled, y, test_size=0.2, random_state=42\n",
        ")\n",
        "\n",
        "# Step 4: Create and train the Logistic Regression model\n",
        "model = LogisticRegression(max_iter=1000)\n",
        "model.fit(X_train, y_train)\n",
        "\n",
        "# Step 5: Predict and calculate accuracy\n",
        "y_pred = model.predict(X_test)\n",
        "accuracy = accuracy_score(y_test, y_pred)\n",
        "\n",
        "print(\"Model Accuracy:\", accuracy)\n"
      ],
      "metadata": {
        "colab": {
          "base_uri": "https://localhost:8080/"
        },
        "id": "gxdYB6hnGJIr",
        "outputId": "22958450-4402-4490-d786-1e8fbcba4ac5"
      },
      "execution_count": 6,
      "outputs": [
        {
          "output_type": "stream",
          "name": "stdout",
          "text": [
            "Model Accuracy: 0.9736842105263158\n"
          ]
        }
      ]
    },
    {
      "cell_type": "markdown",
      "source": [
        "2.Write a Python program to apply L1 regularization (Lasso) on a dataset using LogisticRegression(penalty='l1')\n",
        "and print the model accuracy"
      ],
      "metadata": {
        "id": "XHYYsj29CwJH"
      }
    },
    {
      "cell_type": "code",
      "source": [
        "import pandas as pd\n",
        "from sklearn.model_selection import train_test_split\n",
        "from sklearn.linear_model import LogisticRegression\n",
        "from sklearn.datasets import load_digits\n",
        "from sklearn.metrics import classification_report\n",
        "\n",
        "# Load dataset\n",
        "digits_data = load_digits()\n",
        "features = pd.DataFrame(digits_data.data)\n",
        "binary_labels = pd.Series(digits_data.target % 2)  # Convert to binary classification\n",
        "\n",
        "# Split dataset\n",
        "features_train, features_test, labels_train, labels_test = train_test_split(\n",
        "    features, binary_labels, test_size=0.2, random_state=42\n",
        ")\n",
        "\n",
        "# Train Logistic Regression model with L1 regularization\n",
        "logistic_model = LogisticRegression(penalty='l1', solver='liblinear')\n",
        "logistic_model.fit(features_train, labels_train)\n",
        "\n",
        "# Predict and print classification report\n",
        "label_predictions = logistic_model.predict(features_test)\n",
        "print(\"Classification Report:\\n\", classification_report(labels_test, label_predictions))\n"
      ],
      "metadata": {
        "colab": {
          "base_uri": "https://localhost:8080/"
        },
        "id": "UzvwsT4TGJkg",
        "outputId": "15fbd9fa-88ac-4b9b-f648-00640882fc5e"
      },
      "execution_count": 7,
      "outputs": [
        {
          "output_type": "stream",
          "name": "stdout",
          "text": [
            "Classification Report:\n",
            "               precision    recall  f1-score   support\n",
            "\n",
            "           0       0.92      0.94      0.93       177\n",
            "           1       0.94      0.92      0.93       183\n",
            "\n",
            "    accuracy                           0.93       360\n",
            "   macro avg       0.93      0.93      0.93       360\n",
            "weighted avg       0.93      0.93      0.93       360\n",
            "\n"
          ]
        }
      ]
    },
    {
      "cell_type": "markdown",
      "source": [
        "3.Write a Python program to train Logistic Regression with L2 regularization (Ridge) using\n",
        "LogisticRegression(penalty='l2'). Print model accuracy and coefficients"
      ],
      "metadata": {
        "id": "LCw3O3F6CwD5"
      }
    },
    {
      "cell_type": "code",
      "source": [
        "import pandas as pd\n",
        "from sklearn.model_selection import train_test_split\n",
        "from sklearn.linear_model import LogisticRegression\n",
        "from sklearn.datasets import load_wine\n",
        "from sklearn.metrics import accuracy_score\n",
        "\n",
        "# Load dataset\n",
        "wine_data = load_wine()\n",
        "features = pd.DataFrame(wine_data.data, columns=wine_data.feature_names)\n",
        "binary_target = pd.Series(wine_data.target % 2)  # Convert to binary classification\n",
        "\n",
        "# Split dataset\n",
        "features_train, features_test, target_train, target_test = train_test_split(\n",
        "    features, binary_target, test_size=0.2, random_state=42\n",
        ")\n",
        "\n",
        "# Train Logistic Regression model with L2 regularization (Ridge)\n",
        "ridge_model = LogisticRegression(penalty='l2', solver='lbfgs', max_iter=1000)\n",
        "ridge_model.fit(features_train, target_train)\n",
        "\n",
        "# Predict and print results\n",
        "target_predictions = ridge_model.predict(features_test)\n",
        "print(\"Accuracy with Ridge Regularization:\", accuracy_score(target_test, target_predictions))\n",
        "print(\"Model Coefficients:\", ridge_model.coef_)\n"
      ],
      "metadata": {
        "colab": {
          "base_uri": "https://localhost:8080/"
        },
        "id": "6EoWzWK7GKUx",
        "outputId": "53eea0c3-a097-489f-ea0b-47b6686b748e"
      },
      "execution_count": 8,
      "outputs": [
        {
          "output_type": "stream",
          "name": "stdout",
          "text": [
            "Accuracy with Ridge Regularization: 0.9722222222222222\n",
            "Model Coefficients: [[-0.96354053 -1.13076443 -0.94994021  0.15273232 -0.02170646  0.21115539\n",
            "   0.54387605  0.15565509  0.57822677 -1.89792874  0.4318864   0.22922406\n",
            "  -0.0124921 ]]\n"
          ]
        }
      ]
    },
    {
      "cell_type": "markdown",
      "source": [
        "4.Write a Python program to train Logistic Regression with Elastic Net Regularization (penalty='elasticnet')"
      ],
      "metadata": {
        "id": "AJHttpDgCwAB"
      }
    },
    {
      "cell_type": "code",
      "source": [
        "import pandas as pd\n",
        "from sklearn.model_selection import train_test_split\n",
        "from sklearn.linear_model import LogisticRegression\n",
        "from sklearn.datasets import load_breast_cancer\n",
        "from sklearn.metrics import accuracy_score\n",
        "\n",
        "# Load dataset\n",
        "breast_cancer_data = load_breast_cancer()\n",
        "feature_data = pd.DataFrame(breast_cancer_data.data, columns=breast_cancer_data.feature_names)\n",
        "target_labels = pd.Series(breast_cancer_data.target)\n",
        "\n",
        "# Split dataset\n",
        "features_train, features_test, labels_train, labels_test = train_test_split(\n",
        "    feature_data, target_labels, test_size=0.2, random_state=42\n",
        ")\n",
        "\n",
        "# Train Logistic Regression with Elastic Net Regularization\n",
        "elastic_net_model = LogisticRegression(\n",
        "    penalty='elasticnet',\n",
        "    solver='saga',\n",
        "    l1_ratio=0.5,\n",
        "    max_iter=1000\n",
        ")\n",
        "elastic_net_model.fit(features_train, labels_train)\n",
        "\n",
        "# Predict and print results\n",
        "predicted_labels = elastic_net_model.predict(features_test)\n",
        "print(\"Elastic Net Logistic Regression Accuracy:\", accuracy_score(labels_test, predicted_labels))\n"
      ],
      "metadata": {
        "colab": {
          "base_uri": "https://localhost:8080/"
        },
        "id": "VO2fIq0pGKxW",
        "outputId": "08972d5a-8c05-4c6e-b724-a46985a9036c"
      },
      "execution_count": 9,
      "outputs": [
        {
          "output_type": "stream",
          "name": "stdout",
          "text": [
            "Elastic Net Logistic Regression Accuracy: 0.9649122807017544\n"
          ]
        },
        {
          "output_type": "stream",
          "name": "stderr",
          "text": [
            "/usr/local/lib/python3.11/dist-packages/sklearn/linear_model/_sag.py:348: ConvergenceWarning: The max_iter was reached which means the coef_ did not converge\n",
            "  warnings.warn(\n"
          ]
        }
      ]
    },
    {
      "cell_type": "markdown",
      "source": [
        "5.Write a Python program to train a Logistic Regression model for multiclass classification using\n",
        "multi_class='ovr'"
      ],
      "metadata": {
        "id": "p42K7XAyCv8M"
      }
    },
    {
      "cell_type": "code",
      "source": [
        "import pandas as pd\n",
        "from sklearn.model_selection import train_test_split\n",
        "from sklearn.linear_model import LogisticRegression\n",
        "from sklearn.datasets import load_iris\n",
        "from sklearn.metrics import accuracy_score\n",
        "\n",
        "# Load dataset\n",
        "iris_data = load_iris()\n",
        "feature_matrix = pd.DataFrame(iris_data.data, columns=iris_data.feature_names)\n",
        "target_classes = pd.Series(iris_data.target)\n",
        "\n",
        "# Split dataset\n",
        "features_train, features_test, targets_train, targets_test = train_test_split(\n",
        "    feature_matrix, target_classes, test_size=0.2, random_state=42\n",
        ")\n",
        "\n",
        "# Train Logistic Regression model with One-vs-Rest classification\n",
        "ovr_logistic_model = LogisticRegression(multi_class='ovr', max_iter=1000)\n",
        "ovr_logistic_model.fit(features_train, targets_train)\n",
        "\n",
        "# Predict and print accuracy\n",
        "predicted_targets = ovr_logistic_model.predict(features_test)\n",
        "print(\"One-vs-Rest Logistic Regression Accuracy:\", accuracy_score(targets_test, predicted_targets))\n"
      ],
      "metadata": {
        "colab": {
          "base_uri": "https://localhost:8080/"
        },
        "id": "eOoE0vFDGLCd",
        "outputId": "7741ad94-0328-4f7c-e069-95e64a0b922b"
      },
      "execution_count": 10,
      "outputs": [
        {
          "output_type": "stream",
          "name": "stdout",
          "text": [
            "One-vs-Rest Logistic Regression Accuracy: 0.9666666666666667\n"
          ]
        },
        {
          "output_type": "stream",
          "name": "stderr",
          "text": [
            "/usr/local/lib/python3.11/dist-packages/sklearn/linear_model/_logistic.py:1256: FutureWarning: 'multi_class' was deprecated in version 1.5 and will be removed in 1.7. Use OneVsRestClassifier(LogisticRegression(..)) instead. Leave it to its default value to avoid this warning.\n",
            "  warnings.warn(\n"
          ]
        }
      ]
    },
    {
      "cell_type": "markdown",
      "source": [
        "6.Write a Python program to apply GridSearchCV to tune the hyperparameters (C and penalty) of Logistic\n",
        "Regression. Print the best parameters and accuracyC"
      ],
      "metadata": {
        "id": "G6vF0abBCv4o"
      }
    },
    {
      "cell_type": "code",
      "source": [
        "import pandas as pd\n",
        "from sklearn.model_selection import train_test_split, GridSearchCV\n",
        "from sklearn.linear_model import LogisticRegression\n",
        "from sklearn.datasets import load_wine\n",
        "from sklearn.metrics import accuracy_score\n",
        "\n",
        "# Load dataset\n",
        "data = load_wine()\n",
        "X = pd.DataFrame(data.data, columns=data.feature_names)\n",
        "y = pd.Series(data.target)\n",
        "\n",
        "# Split dataset\n",
        "X_train, X_test, y_train, y_test = train_test_split(X, y, test_size=0.2, random_state=42)\n",
        "\n",
        "# Hyperparameter grid\n",
        "param_grid = {'C': [0.1, 1, 10], 'penalty': ['l1', 'l2']}\n",
        "model = GridSearchCV(LogisticRegression(solver='saga', max_iter=5000), param_grid, cv=5)\n",
        "\n",
        "# Fit and predict\n",
        "model.fit(X_train, y_train)\n",
        "best_model = model.best_estimator_\n",
        "predictions = best_model.predict(X_test)\n",
        "\n",
        "# Output\n",
        "print(\"Best Parameters:\", model.best_params_)\n",
        "print(\"Best Model Accuracy:\", accuracy_score(y_test, predictions))\n"
      ],
      "metadata": {
        "colab": {
          "base_uri": "https://localhost:8080/"
        },
        "id": "RShsCEmlGLan",
        "outputId": "7db99bd9-8bd3-4249-9996-2082534f9cee"
      },
      "execution_count": 13,
      "outputs": [
        {
          "output_type": "stream",
          "name": "stdout",
          "text": [
            "Best Parameters: {'C': 0.1, 'penalty': 'l2'}\n",
            "Best Model Accuracy: 1.0\n"
          ]
        }
      ]
    },
    {
      "cell_type": "markdown",
      "source": [
        "7. Write a Python program to evaluate Logistic Regression using Stratified K-Fold Cross-Validation. Print the\n",
        "average accuracyC"
      ],
      "metadata": {
        "id": "Tlm_2k5-Cv0i"
      }
    },
    {
      "cell_type": "code",
      "source": [
        "import pandas as pd\n",
        "from sklearn.model_selection import StratifiedKFold, cross_val_score\n",
        "from sklearn.linear_model import LogisticRegression\n",
        "from sklearn.datasets import load_breast_cancer\n",
        "\n",
        "# Load dataset\n",
        "dataset = load_breast_cancer()\n",
        "features = pd.DataFrame(dataset.data, columns=dataset.feature_names)\n",
        "labels = pd.Series(dataset.target)\n",
        "\n",
        "# Set up Stratified K-Fold Cross-Validation\n",
        "skf = StratifiedKFold(n_splits=5, shuffle=True, random_state=42)\n",
        "logreg_model = LogisticRegression(max_iter=1000)\n",
        "\n",
        "# Run cross-validation\n",
        "cv_scores = cross_val_score(logreg_model, features, labels, cv=skf, scoring='accuracy')\n",
        "print(\"Average Accuracy from 5-Fold CV:\", cv_scores.mean())\n"
      ],
      "metadata": {
        "colab": {
          "base_uri": "https://localhost:8080/"
        },
        "id": "5_XXpVRfGLwW",
        "outputId": "04d3a1a9-e417-46e7-b439-e9fddbfa87d7"
      },
      "execution_count": 14,
      "outputs": [
        {
          "output_type": "stream",
          "name": "stdout",
          "text": [
            "Average Accuracy from 5-Fold CV: 0.9473063188945815\n"
          ]
        }
      ]
    },
    {
      "cell_type": "markdown",
      "source": [
        "8.Write a Python program to load a dataset from a CSV file, apply Logistic Regression, and evaluate its\n",
        "accuracy."
      ],
      "metadata": {
        "id": "rESDoHUsCvwA"
      }
    },
    {
      "cell_type": "code",
      "source": [
        "import pandas as pd\n",
        "from sklearn.model_selection import train_test_split\n",
        "from sklearn.linear_model import LogisticRegression\n",
        "from sklearn.metrics import accuracy_score\n",
        "\n",
        "# Load data from CSV file (assuming it has feature columns and a 'label' column)\n",
        "data_frame = pd.read_csv(\"/content/sample_data/california_housing_test.csv\")\n",
        "\n",
        "# Separate input variables and target variable\n",
        "features = data_frame.drop(columns=['housing_median_age'])\n",
        "target = data_frame['median_house_value']\n",
        "\n",
        "# Divide data into training and testing sets\n",
        "features_train, features_test, target_train, target_test = train_test_split(\n",
        "    features, target, test_size=0.2, random_state=42\n",
        ")\n",
        "\n",
        "# Initialize and train logistic regression model\n",
        "logreg = LogisticRegression(max_iter=1000)\n",
        "logreg.fit(features_train, target_train)\n",
        "\n",
        "# Make predictions and calculate accuracy\n",
        "predicted_labels = logreg.predict(features_test)\n",
        "print(\"Logistic Regression Accuracy:\", accuracy_score(target_test, predicted_labels))\n"
      ],
      "metadata": {
        "colab": {
          "base_uri": "https://localhost:8080/"
        },
        "id": "AA8KYWPlGMQn",
        "outputId": "72f7af5e-a6c9-4ab6-86bb-f429e9f61f38"
      },
      "execution_count": 20,
      "outputs": [
        {
          "output_type": "stream",
          "name": "stdout",
          "text": [
            "Logistic Regression Accuracy: 0.04\n"
          ]
        }
      ]
    },
    {
      "cell_type": "markdown",
      "source": [
        "9.Write a Python program to apply RandomizedSearchCV for tuning hyperparameters (C, penalty, solver) in\n",
        "Logistic Regression. Print the best parameters and accuracyM"
      ],
      "metadata": {
        "id": "VQTzBRkhCvr4"
      }
    },
    {
      "cell_type": "code",
      "source": [
        "import pandas as pd\n",
        "from sklearn.model_selection import train_test_split, RandomizedSearchCV\n",
        "from sklearn.linear_model import LogisticRegression\n",
        "from sklearn.datasets import load_breast_cancer\n",
        "from sklearn.metrics import accuracy_score\n",
        "\n",
        "# Load dataset\n",
        "dataset = load_breast_cancer()\n",
        "features = pd.DataFrame(dataset.data, columns=dataset.feature_names)\n",
        "target = pd.Series(dataset.target)\n",
        "\n",
        "# Split dataset\n",
        "features_train, features_test, target_train, target_test = train_test_split(features, target, test_size=0.2, random_state=42)\n",
        "\n",
        "# Define hyperparameter search space\n",
        "hyperparameters = {\n",
        "    'C': [0.01, 0.1, 1, 10, 100],\n",
        "    'penalty': ['l1', 'l2'],\n",
        "    'solver': ['liblinear', 'saga']\n",
        "}\n",
        "\n",
        "# Apply RandomizedSearchCV\n",
        "random_search = RandomizedSearchCV(LogisticRegression(max_iter=1000), hyperparameters, cv=5, n_iter=10, random_state=42)\n",
        "random_search.fit(features_train, target_train)\n",
        "\n",
        "# Predict and print results\n",
        "best_logistic_model = random_search.best_estimator_\n",
        "predictions = best_logistic_model.predict(features_test)\n",
        "print(\"Best Parameters:\", random_search.best_params_)\n",
        "print(\"Best Model Accuracy:\", accuracy_score(target_test, predictions))\n"
      ],
      "metadata": {
        "colab": {
          "base_uri": "https://localhost:8080/"
        },
        "id": "UOWZPoOZGMoe",
        "outputId": "e26b0060-67f7-4e81-8506-039b4f1c2c3b"
      },
      "execution_count": 21,
      "outputs": [
        {
          "output_type": "stream",
          "name": "stdout",
          "text": [
            "Best Parameters: {'solver': 'liblinear', 'penalty': 'l1', 'C': 100}\n",
            "Best Model Accuracy: 0.9824561403508771\n"
          ]
        }
      ]
    },
    {
      "cell_type": "markdown",
      "source": [
        "10.Write a Python program to implement One-vs-One (OvO) Multiclass Logistic Regression and print accuracy"
      ],
      "metadata": {
        "id": "-vYZwua9Cvn-"
      }
    },
    {
      "cell_type": "code",
      "source": [
        "import pandas as pd\n",
        "from sklearn.model_selection import train_test_split\n",
        "from sklearn.linear_model import LogisticRegression\n",
        "from sklearn.datasets import load_iris\n",
        "from sklearn.metrics import accuracy_score\n",
        "\n",
        "# Load dataset\n",
        "iris_data = load_iris()\n",
        "features_df = pd.DataFrame(iris_data.data, columns=iris_data.feature_names)\n",
        "target_series = pd.Series(iris_data.target)\n",
        "\n",
        "# Split dataset\n",
        "features_train, features_test, target_train, target_test = train_test_split(\n",
        "    features_df, target_series, test_size=0.2, random_state=42\n",
        ")\n",
        "\n",
        "# Train Logistic Regression with One-vs-Rest strategy\n",
        "logistic_model = LogisticRegression(multi_class='ovr', max_iter=1000)\n",
        "logistic_model.fit(features_train, target_train)\n",
        "\n",
        "# Predict and print accuracy\n",
        "test_predictions = logistic_model.predict(features_test)\n",
        "print(\"One-vs-Rest Logistic Regression Accuracy:\", accuracy_score(target_test, test_predictions))\n"
      ],
      "metadata": {
        "colab": {
          "base_uri": "https://localhost:8080/"
        },
        "id": "J2dbwwEMGNKX",
        "outputId": "6f5856e4-b362-459b-a609-19fc88e17636"
      },
      "execution_count": 22,
      "outputs": [
        {
          "output_type": "stream",
          "name": "stderr",
          "text": [
            "/usr/local/lib/python3.11/dist-packages/sklearn/linear_model/_logistic.py:1256: FutureWarning: 'multi_class' was deprecated in version 1.5 and will be removed in 1.7. Use OneVsRestClassifier(LogisticRegression(..)) instead. Leave it to its default value to avoid this warning.\n",
            "  warnings.warn(\n"
          ]
        },
        {
          "output_type": "stream",
          "name": "stdout",
          "text": [
            "One-vs-Rest Logistic Regression Accuracy: 0.9666666666666667\n"
          ]
        }
      ]
    },
    {
      "cell_type": "markdown",
      "source": [
        "11.Write a Python program to train a Logistic Regression model and visualize the confusion matrix for binary\n",
        "classification"
      ],
      "metadata": {
        "id": "YozmmbPNCvkG"
      }
    },
    {
      "cell_type": "code",
      "source": [
        "import pandas as pd\n",
        "import seaborn as sns\n",
        "import matplotlib.pyplot as plt\n",
        "from sklearn.model_selection import train_test_split\n",
        "from sklearn.linear_model import LogisticRegression\n",
        "from sklearn.metrics import confusion_matrix\n",
        "from sklearn.datasets import load_breast_cancer\n",
        "\n",
        "# Load dataset\n",
        "cancer_dataset = load_breast_cancer()\n",
        "features_df = pd.DataFrame(cancer_dataset.data, columns=cancer_dataset.feature_names)\n",
        "target_series = pd.Series(cancer_dataset.target)\n",
        "\n",
        "# Split dataset\n",
        "X_train, X_test, y_train, y_test = train_test_split(\n",
        "    features_df, target_series, test_size=0.2, random_state=42\n",
        ")\n",
        "\n",
        "# Train Logistic Regression model\n",
        "log_reg_model = LogisticRegression(max_iter=1000)\n",
        "log_reg_model.fit(X_train, y_train)\n",
        "\n",
        "# Predict and compute confusion matrix\n",
        "y_predicted = log_reg_model.predict(X_test)\n",
        "conf_matrix = confusion_matrix(y_test, y_predicted)\n",
        "\n",
        "# Plot the confusion matrix\n",
        "plt.figure(figsize=(5, 4))\n",
        "sns.heatmap(conf_matrix, annot=True, fmt=\"d\", cmap=\"Blues\")\n",
        "plt.xlabel(\"Predicted Label\")\n",
        "plt.ylabel(\"True Label\")\n",
        "plt.title(\"Confusion Matrix\")\n",
        "plt.show()\n"
      ],
      "metadata": {
        "colab": {
          "base_uri": "https://localhost:8080/",
          "height": 410
        },
        "id": "M_zUL3AHGNb-",
        "outputId": "845f108d-d0d8-411f-fc1c-e1d291cde6fc"
      },
      "execution_count": 23,
      "outputs": [
        {
          "output_type": "display_data",
          "data": {
            "text/plain": [
              "<Figure size 500x400 with 2 Axes>"
            ],
            "image/png": "[encoded data removed]"
          },
          "metadata": {}
        }
      ]
    },
    {
      "cell_type": "markdown",
      "source": [
        "12.Write a Python program to train a Logistic Regression model and evaluate its performance using Precision,\n",
        "Recall, and F1-Score"
      ],
      "metadata": {
        "id": "hC9cKMlRCvgK"
      }
    },
    {
      "cell_type": "code",
      "source": [
        "import pandas as pd\n",
        "from sklearn.model_selection import train_test_split\n",
        "from sklearn.linear_model import LogisticRegression\n",
        "from sklearn.metrics import precision_score, recall_score, f1_score\n",
        "from sklearn.datasets import load_wine\n",
        "\n",
        "# Load the wine dataset\n",
        "wine_dataset = load_wine()\n",
        "input_features = pd.DataFrame(wine_dataset.data, columns=wine_dataset.feature_names)\n",
        "target_binary = pd.Series(wine_dataset.target % 2)  # Convert to binary target (0 or 1)\n",
        "\n",
        "# Split data into training and test sets\n",
        "X_train, X_test, y_train, y_test = train_test_split(\n",
        "    input_features, target_binary, test_size=0.2, random_state=42\n",
        ")\n",
        "\n",
        "# Initialize and train the logistic regression model\n",
        "log_reg_model = LogisticRegression(max_iter=1000)\n",
        "log_reg_model.fit(X_train, y_train)\n",
        "\n",
        "# Make predictions and evaluate the model\n",
        "y_predicted = log_reg_model.predict(X_test)\n",
        "print(\" Precision Score:\", precision_score(y_test, y_predicted))\n",
        "print(\" Recall Score:\", recall_score(y_test, y_predicted))\n",
        "print(\"F1 Score:\", f1_score(y_test, y_predicted))\n"
      ],
      "metadata": {
        "colab": {
          "base_uri": "https://localhost:8080/"
        },
        "id": "Gn2el-C1GNwm",
        "outputId": "f39e8f49-7818-40a2-cf91-7c5643aa9739"
      },
      "execution_count": 26,
      "outputs": [
        {
          "output_type": "stream",
          "name": "stdout",
          "text": [
            " Precision Score: 0.9333333333333333\n",
            " Recall Score: 1.0\n",
            "F1 Score: 0.9655172413793104\n"
          ]
        }
      ]
    },
    {
      "cell_type": "markdown",
      "source": [
        "13.Write a Python program to train a Logistic Regression model on imbalanced data and apply class weights to\n",
        "improve model performance"
      ],
      "metadata": {
        "id": "yXLwO76nCvb5"
      }
    },
    {
      "cell_type": "code",
      "source": [
        "import pandas as pd\n",
        "from sklearn.model_selection import train_test_split\n",
        "from sklearn.linear_model import LogisticRegression\n",
        "from sklearn.datasets import make_classification\n",
        "from sklearn.metrics import accuracy_score\n",
        "\n",
        "# Create an imbalanced dataset\n",
        "X_data, y_data = make_classification(n_classes=2, weights=[0.9, 0.1], n_samples=1000, random_state=42)\n",
        "df_X = pd.DataFrame(X_data)\n",
        "df_y = pd.Series(y_data)\n",
        "\n",
        "# Split dataset\n",
        "X_tr, X_te, y_tr, y_te = train_test_split(df_X, df_y, test_size=0.2, random_state=42)\n",
        "\n",
        "# Train Logistic Regression with class weights\n",
        "lr_model = LogisticRegression(class_weight='balanced', max_iter=1000)\n",
        "lr_model.fit(X_tr, y_tr)\n",
        "\n",
        "# Predict and print accuracy\n",
        "y_predicted = lr_model.predict(X_te)\n",
        "print(\"Accuracy with Balanced Class Weights:\", accuracy_score(y_te, y_predicted))\n"
      ],
      "metadata": {
        "colab": {
          "base_uri": "https://localhost:8080/"
        },
        "id": "2NokuHP5GOY-",
        "outputId": "9fdd11c1-42e7-4bc1-9dc9-0671f3af6dce"
      },
      "execution_count": 27,
      "outputs": [
        {
          "output_type": "stream",
          "name": "stdout",
          "text": [
            "Accuracy with Balanced Class Weights: 0.865\n"
          ]
        }
      ]
    },
    {
      "cell_type": "markdown",
      "source": [
        "14.Write a Python program to train Logistic Regression on the Titanic dataset, handle missing values, and\n",
        "evaluate performance"
      ],
      "metadata": {
        "id": "48VPTrEHCvX1"
      }
    },
    {
      "cell_type": "code",
      "source": [
        "import pandas as pd\n",
        "from sklearn.model_selection import train_test_split\n",
        "from sklearn.linear_model import LogisticRegression\n",
        "from sklearn.metrics import accuracy_score\n",
        "\n",
        "# Load Titanic dataset from the given URL\n",
        "data_url = \"https://raw.githubusercontent.com/datasciencedojo/datasets/master/titanic.csv\"\n",
        "titanic_df = pd.read_csv(data_url)\n",
        "\n",
        "# Keep only selected columns and remove rows with missing values\n",
        "titanic_df = titanic_df[['Pclass', 'Sex', 'Age', 'Fare', 'Survived']].dropna()\n",
        "\n",
        "# Convert gender from text to numeric values\n",
        "titanic_df['Sex'] = titanic_df['Sex'].map({'male': 0, 'female': 1})\n",
        "\n",
        "# Define input features and target label\n",
        "features = titanic_df[['Pclass', 'Sex', 'Age', 'Fare']]\n",
        "target = titanic_df['Survived']\n",
        "\n",
        "# Split data into training and testing sets\n",
        "X_train, X_test, y_train, y_test = train_test_split(features, target, test_size=0.2, random_state=42)\n",
        "\n",
        "# Build and train the logistic regression model\n",
        "classifier = LogisticRegression(max_iter=1000)\n",
        "classifier.fit(X_train, y_train)\n",
        "\n",
        "# Make predictions and evaluate accuracy\n",
        "predicted_labels = classifier.predict(X_test)\n",
        "print(\"Accuracy of Logistic Regression on Titanic data:\", accuracy_score(y_test, predicted_labels))\n"
      ],
      "metadata": {
        "colab": {
          "base_uri": "https://localhost:8080/"
        },
        "id": "xHrJsIboGOvy",
        "outputId": "7d4b7aa7-1e8e-45df-d09c-d80ba6957e10"
      },
      "execution_count": 28,
      "outputs": [
        {
          "output_type": "stream",
          "name": "stdout",
          "text": [
            "Accuracy of Logistic Regression on Titanic data: 0.7552447552447552\n"
          ]
        }
      ]
    },
    {
      "cell_type": "markdown",
      "source": [
        "15. Write a Python program to apply feature scaling (Standardization) before training a Logistic Regression\n",
        "model. Evaluate its accuracy and compare results with and without scaling"
      ],
      "metadata": {
        "id": "-6jemBIECvT_"
      }
    },
    {
      "cell_type": "code",
      "source": [
        "import pandas as pd\n",
        "from sklearn.model_selection import train_test_split\n",
        "from sklearn.preprocessing import StandardScaler\n",
        "from sklearn.linear_model import LogisticRegression\n",
        "from sklearn.metrics import accuracy_score\n",
        "\n",
        "# Load dataset\n",
        "from sklearn.datasets import load_breast_cancer\n",
        "dataset = load_breast_cancer()\n",
        "features = pd.DataFrame(dataset.data, columns=dataset.feature_names)\n",
        "target = pd.Series(dataset.target)\n",
        "\n",
        "# Split dataset\n",
        "features_train, features_test, target_train, target_test = train_test_split(\n",
        "    features, target, test_size=0.2, random_state=42\n",
        ")\n",
        "\n",
        "# Train model without feature scaling\n",
        "log_reg_raw = LogisticRegression(max_iter=1000)\n",
        "log_reg_raw.fit(features_train, target_train)\n",
        "raw_preds = log_reg_raw.predict(features_test)\n",
        "raw_accuracy = accuracy_score(target_test, raw_preds)\n",
        "\n",
        "# Apply feature scaling\n",
        "scaler = StandardScaler()\n",
        "features_train_scaled = scaler.fit_transform(features_train)\n",
        "features_test_scaled = scaler.transform(features_test)\n",
        "\n",
        "# Train model with scaled features\n",
        "log_reg_scaled = LogisticRegression(max_iter=1000)\n",
        "log_reg_scaled.fit(features_train_scaled, target_train)\n",
        "scaled_preds = log_reg_scaled.predict(features_test_scaled)\n",
        "scaled_accuracy = accuracy_score(target_test, scaled_preds)\n",
        "\n",
        "# Print accuracy comparison\n",
        "print(\"Accuracy without Feature Scaling:\", raw_accuracy)\n",
        "print(\"Accuracy with Feature Scaling:\", scaled_accuracy)\n"
      ],
      "metadata": {
        "colab": {
          "base_uri": "https://localhost:8080/"
        },
        "id": "_Q7g--iyGPFX",
        "outputId": "e839bf57-b182-4882-96fa-aae3dff4117b"
      },
      "execution_count": 30,
      "outputs": [
        {
          "output_type": "stream",
          "name": "stdout",
          "text": [
            "Accuracy without Feature Scaling: 0.956140350877193\n",
            "Accuracy with Feature Scaling: 0.9736842105263158\n"
          ]
        }
      ]
    },
    {
      "cell_type": "markdown",
      "source": [
        "16.Write a Python program to train Logistic Regression and evaluate its performance using ROC-AUC score"
      ],
      "metadata": {
        "id": "swGAbZvZCvP4"
      }
    },
    {
      "cell_type": "code",
      "source": [
        "import pandas as pd\n",
        "from sklearn.model_selection import train_test_split\n",
        "from sklearn.linear_model import LogisticRegression\n",
        "from sklearn.metrics import roc_auc_score\n",
        "from sklearn.datasets import load_breast_cancer\n",
        "\n",
        "# Load dataset\n",
        "dataset = load_breast_cancer()\n",
        "features = pd.DataFrame(dataset.data, columns=dataset.feature_names)\n",
        "labels = pd.Series(dataset.target)\n",
        "\n",
        "# Split dataset\n",
        "features_train, features_test, labels_train, labels_test = train_test_split(\n",
        "    features, labels, test_size=0.2, random_state=42\n",
        ")\n",
        "\n",
        "# Train Logistic Regression\n",
        "classifier = LogisticRegression(max_iter=1000)\n",
        "classifier.fit(features_train, labels_train)\n",
        "\n",
        "# Predict and compute ROC-AUC score\n",
        "probabilities = classifier.predict_proba(features_test)[:, 1]\n",
        "roc_auc_value = roc_auc_score(labels_test, probabilities)\n",
        "print(\"ROC-AUC Score:\", roc_auc_value)\n"
      ],
      "metadata": {
        "colab": {
          "base_uri": "https://localhost:8080/"
        },
        "id": "LImHjalKGPoL",
        "outputId": "ca8df892-fce6-4eff-c4d7-c0900b4ff9d5"
      },
      "execution_count": 32,
      "outputs": [
        {
          "output_type": "stream",
          "name": "stdout",
          "text": [
            "ROC-AUC Score: 0.9977071732721913\n"
          ]
        }
      ]
    },
    {
      "cell_type": "markdown",
      "source": [
        "17.Write a Python program to train Logistic Regression using a custom learning rate (C=0.5) and evaluate\n",
        "accuracy"
      ],
      "metadata": {
        "id": "EIXY-gHaCvJX"
      }
    },
    {
      "cell_type": "code",
      "source": [
        "import pandas as pd\n",
        "from sklearn.model_selection import train_test_split\n",
        "from sklearn.linear_model import LogisticRegression\n",
        "from sklearn.datasets import load_breast_cancer\n",
        "from sklearn.metrics import accuracy_score\n",
        "\n",
        "# Load dataset\n",
        "dataset = load_breast_cancer()\n",
        "features = pd.DataFrame(dataset.data, columns=dataset.feature_names)\n",
        "target = pd.Series(dataset.target)\n",
        "\n",
        "# Split dataset\n",
        "features_train, features_test, target_train, target_test = train_test_split(\n",
        "    features, target, test_size=0.2, random_state=42\n",
        ")\n",
        "\n",
        "# Train Logistic Regression with custom learning rate (C=0.5)\n",
        "classifier = LogisticRegression(C=0.5, max_iter=1000)\n",
        "classifier.fit(features_train, target_train)\n",
        "\n",
        "# Predict and print accuracy\n",
        "output = classifier.predict(features_test)\n",
        "print(\"Logistic Regression Accuracy with C=0.5:\", accuracy_score(target_test, output))\n"
      ],
      "metadata": {
        "colab": {
          "base_uri": "https://localhost:8080/"
        },
        "id": "G7d6XG9wGP4z",
        "outputId": "3a5971a9-f5f9-400a-95a0-09680ebf6b9e"
      },
      "execution_count": 33,
      "outputs": [
        {
          "output_type": "stream",
          "name": "stdout",
          "text": [
            "Logistic Regression Accuracy with C=0.5: 0.9649122807017544\n"
          ]
        }
      ]
    },
    {
      "cell_type": "markdown",
      "source": [
        "18.Write a Python program to train Logistic Regression and identify important features based on model\n",
        "coefficients"
      ],
      "metadata": {
        "id": "pa9LVdMHCvGO"
      }
    },
    {
      "cell_type": "code",
      "source": [
        "import pandas as pd\n",
        "from sklearn.model_selection import train_test_split\n",
        "from sklearn.linear_model import LogisticRegression\n",
        "from sklearn.datasets import load_wine\n",
        "import numpy as np\n",
        "\n",
        "# Load dataset\n",
        "wine_data = load_wine()\n",
        "features_df = pd.DataFrame(wine_data.data, columns=wine_data.feature_names)\n",
        "binary_target = pd.Series(wine_data.target % 2)  # Convert to binary classification\n",
        "\n",
        "# Split dataset\n",
        "X_train, X_test, y_train, y_test = train_test_split(\n",
        "    features_df, binary_target, test_size=0.2, random_state=42\n",
        ")\n",
        "\n",
        "# Train Logistic Regression\n",
        "classifier = LogisticRegression(max_iter=1000)\n",
        "classifier.fit(X_train, y_train)\n",
        "\n",
        "# Get feature importance based on absolute coefficient values\n",
        "coeff_importance = np.abs(classifier.coef_[0])\n",
        "columns = features_df.columns\n",
        "top_indices = np.argsort(coeff_importance)[::-1]\n",
        "\n",
        "# Print important features\n",
        "print(\"Top Important Features in Logistic Regression:\")\n",
        "for idx in top_indices[:5]:  # Top 5 features\n",
        "    print(f\"{columns[idx]} - Importance Score: {coeff_importance[idx]}\")\n"
      ],
      "metadata": {
        "colab": {
          "base_uri": "https://localhost:8080/"
        },
        "id": "POPNkVGlGQPH",
        "outputId": "f2f3e406-a17d-413d-bc2a-3b337edf7dd0"
      },
      "execution_count": 34,
      "outputs": [
        {
          "output_type": "stream",
          "name": "stdout",
          "text": [
            "Top Important Features in Logistic Regression:\n",
            "color_intensity - Importance Score: 1.8979287441492443\n",
            "malic_acid - Importance Score: 1.1307644272360944\n",
            "alcohol - Importance Score: 0.963540527038184\n",
            "ash - Importance Score: 0.9499402098507542\n",
            "proanthocyanins - Importance Score: 0.5782267693863057\n"
          ]
        }
      ]
    },
    {
      "cell_type": "markdown",
      "source": [
        "19.Write a Python program to train Logistic Regression and evaluate its performance using Cohen’s Kappa\n",
        "Score"
      ],
      "metadata": {
        "id": "b2T2eNeWCvC-"
      }
    },
    {
      "cell_type": "code",
      "source": [
        "import pandas as pd\n",
        "from sklearn.model_selection import train_test_split\n",
        "from sklearn.linear_model import LogisticRegression\n",
        "from sklearn.metrics import cohen_kappa_score\n",
        "from sklearn.datasets import load_wine\n",
        "\n",
        "# Load dataset\n",
        "wine = load_wine()\n",
        "features = pd.DataFrame(wine.data, columns=wine.feature_names)\n",
        "labels = pd.Series(wine.target % 2)  # Convert to binary classification\n",
        "\n",
        "# Split dataset\n",
        "X_train, X_test, y_train, y_test = train_test_split(features, labels, test_size=0.2, random_state=42)\n",
        "\n",
        "# Train Logistic Regression\n",
        "classifier = LogisticRegression(max_iter=1000)\n",
        "classifier.fit(X_train, y_train)\n",
        "\n",
        "# Predict and calculate Cohen's Kappa Score\n",
        "predicted = classifier.predict(X_test)\n",
        "kappa_score = cohen_kappa_score(y_test, predicted)\n",
        "print(\"Cohen's Kappa Score:\", kappa_score)\n"
      ],
      "metadata": {
        "colab": {
          "base_uri": "https://localhost:8080/"
        },
        "id": "pm9969hlGQ4-",
        "outputId": "57ea41bc-732a-42a8-e8df-fd17528b19cd"
      },
      "execution_count": 35,
      "outputs": [
        {
          "output_type": "stream",
          "name": "stdout",
          "text": [
            "Cohen's Kappa Score: 0.9423076923076923\n"
          ]
        }
      ]
    },
    {
      "cell_type": "markdown",
      "source": [
        "20.Write a Python program to train Logistic Regression and visualize the Precision-Recall Curve for binary\n",
        "classificatio:"
      ],
      "metadata": {
        "id": "nlqP4f2SCu_g"
      }
    },
    {
      "cell_type": "code",
      "source": [
        "import pandas as pd\n",
        "import matplotlib.pyplot as plt\n",
        "from sklearn.model_selection import train_test_split\n",
        "from sklearn.linear_model import LogisticRegression\n",
        "from sklearn.metrics import precision_recall_curve\n",
        "from sklearn.datasets import load_breast_cancer\n",
        "\n",
        "# Load dataset\n",
        "dataset = load_breast_cancer()\n",
        "features = pd.DataFrame(dataset.data, columns=dataset.feature_names)\n",
        "target = pd.Series(dataset.target)\n",
        "\n",
        "# Split dataset\n",
        "features_train, features_test, target_train, target_test = train_test_split(features, target, test_size=0.2, random_state=42)\n",
        "\n",
        "# Train Logistic Regression\n",
        "classifier = LogisticRegression(max_iter=1000)\n",
        "classifier.fit(features_train, target_train)\n",
        "\n",
        "# Get precision-recall values\n",
        "probabilities = classifier.predict_proba(features_test)[:, 1]\n",
        "precision_vals, recall_vals, _ = precision_recall_curve(target_test, probabilities)\n",
        "\n",
        "# Plot the Precision-Recall Curve\n",
        "plt.plot(recall_vals, precision_vals, marker='.')\n",
        "plt.xlabel(\"Recall\")\n",
        "plt.ylabel(\"Precision\")\n",
        "plt.title(\"Precision-Recall Curve\")\n",
        "plt.show()\n"
      ],
      "metadata": {
        "colab": {
          "base_uri": "https://localhost:8080/",
          "height": 472
        },
        "id": "0SfsgPpUGRJn",
        "outputId": "2c069675-24cd-4f1f-9118-3ad4af087474"
      },
      "execution_count": 36,
      "outputs": [
        {
          "output_type": "display_data",
          "data": {
            "text/plain": [
              "<Figure size 640x480 with 1 Axes>"
            ],
            "image/png": "[encoded data removed]"
          },
          "metadata": {}
        }
      ]
    },
    {
      "cell_type": "markdown",
      "source": [
        "21.Write a Python program to train Logistic Regression with different solvers (liblinear, saga, lbfgs) and compare\n",
        "their accuracy"
      ],
      "metadata": {
        "id": "zzYKr3j8Cu8S"
      }
    },
    {
      "cell_type": "code",
      "source": [
        "import pandas as pd\n",
        "from sklearn.model_selection import train_test_split\n",
        "from sklearn.linear_model import LogisticRegression\n",
        "from sklearn.datasets import load_digits\n",
        "from sklearn.metrics import accuracy_score\n",
        "\n",
        "# Load dataset\n",
        "digit_data = load_digits()\n",
        "features = pd.DataFrame(digit_data.data)\n",
        "labels = pd.Series(digit_data.target % 2)  # Binary classification\n",
        "\n",
        "# Split dataset\n",
        "features_train, features_test, labels_train, labels_test = train_test_split(\n",
        "    features, labels, test_size=0.2, random_state=42\n",
        ")\n",
        "\n",
        "solver_list = ['liblinear', 'saga', 'lbfgs']\n",
        "\n",
        "# Train and evaluate models with different solvers\n",
        "for solver_name in solver_list:\n",
        "    classifier = LogisticRegression(solver=solver_name, max_iter=1000)\n",
        "    classifier.fit(features_train, labels_train)\n",
        "    label_preds = classifier.predict(features_test)\n",
        "    acc_score = accuracy_score(labels_test, label_preds)\n",
        "    print(f\"Accuracy with {solver_name} solver:\", acc_score)\n"
      ],
      "metadata": {
        "colab": {
          "base_uri": "https://localhost:8080/"
        },
        "id": "F5AVNIHNGRYi",
        "outputId": "abd93da6-ff99-4733-e8b9-04fc7303241e"
      },
      "execution_count": 37,
      "outputs": [
        {
          "output_type": "stream",
          "name": "stdout",
          "text": [
            "Accuracy with liblinear solver: 0.9305555555555556\n",
            "Accuracy with saga solver: 0.9305555555555556\n",
            "Accuracy with lbfgs solver: 0.9305555555555556\n"
          ]
        }
      ]
    },
    {
      "cell_type": "markdown",
      "source": [
        "22.Write a Python program to train Logistic Regression and evaluate its performance using Matthews\n",
        "Correlation Coefficient (MCC)"
      ],
      "metadata": {
        "id": "uSl_wCB4Cu4K"
      }
    },
    {
      "cell_type": "code",
      "source": [
        "import pandas as pd\n",
        "from sklearn.model_selection import train_test_split\n",
        "from sklearn.linear_model import LogisticRegression\n",
        "from sklearn.datasets import load_digits\n",
        "from sklearn.metrics import matthews_corrcoef  # Still from sklearn.metrics\n",
        "\n",
        "# Load digits dataset\n",
        "digits_data = load_digits()\n",
        "X = pd.DataFrame(digits_data.data)\n",
        "y = pd.Series(digits_data.target % 2)  # Convert to binary classification (even vs odd)\n",
        "\n",
        "# Split dataset\n",
        "X_train, X_test, y_train, y_test = train_test_split(\n",
        "    X, y, test_size=0.2, random_state=42\n",
        ")\n",
        "\n",
        "# Train Logistic Regression\n",
        "model = LogisticRegression(max_iter=1000)\n",
        "model.fit(X_train, y_train)\n",
        "\n",
        "# Predict on test set\n",
        "y_pred = model.predict(X_test)\n",
        "\n",
        "# Evaluate with Matthews Correlation Coefficient\n",
        "mcc_score = matthews_corrcoef(y_test, y_pred)\n",
        "print(\"Matthews Correlation Coefficient (MCC):\", mcc_score)\n"
      ],
      "metadata": {
        "colab": {
          "base_uri": "https://localhost:8080/"
        },
        "id": "Fn__Jc_tGRq0",
        "outputId": "ef7e5c74-f615-4d85-be50-01c245379d0a"
      },
      "execution_count": 38,
      "outputs": [
        {
          "output_type": "stream",
          "name": "stdout",
          "text": [
            "Matthews Correlation Coefficient (MCC): 0.8614691244572492\n"
          ]
        }
      ]
    },
    {
      "cell_type": "markdown",
      "source": [
        "23.Write a Python program to train Logistic Regression on both raw and standardized data. Compare their\n",
        "accuracy to see the impact of feature scaling"
      ],
      "metadata": {
        "id": "Vd5BHrpJCuzK"
      }
    },
    {
      "cell_type": "code",
      "source": [
        "import pandas as pd\n",
        "from sklearn.model_selection import train_test_split\n",
        "from sklearn.preprocessing import StandardScaler\n",
        "from sklearn.linear_model import LogisticRegression\n",
        "from sklearn.metrics import accuracy_score\n",
        "from sklearn.datasets import load_breast_cancer\n",
        "\n",
        "# Load dataset\n",
        "cancer_data = load_breast_cancer()\n",
        "features = pd.DataFrame(cancer_data.data, columns=cancer_data.feature_names)\n",
        "labels = pd.Series(cancer_data.target)\n",
        "\n",
        "# Split dataset\n",
        "features_train, features_test, labels_train, labels_test = train_test_split(\n",
        "    features, labels, test_size=0.2, random_state=42\n",
        ")\n",
        "\n",
        "# Train Logistic Regression on raw data\n",
        "logreg_raw = LogisticRegression(max_iter=1000)\n",
        "logreg_raw.fit(features_train, labels_train)\n",
        "raw_predictions = logreg_raw.predict(features_test)\n",
        "raw_accuracy = accuracy_score(labels_test, raw_predictions)\n",
        "\n",
        "# Apply feature scaling\n",
        "scaler_obj = StandardScaler()\n",
        "features_train_scaled = scaler_obj.fit_transform(features_train)\n",
        "features_test_scaled = scaler_obj.transform(features_test)\n",
        "\n",
        "# Train Logistic Regression on scaled data\n",
        "logreg_scaled = LogisticRegression(max_iter=1000)\n",
        "logreg_scaled.fit(features_train_scaled, labels_train)\n",
        "scaled_predictions = logreg_scaled.predict(features_test_scaled)\n",
        "scaled_accuracy = accuracy_score(labels_test, scaled_predictions)\n",
        "\n",
        "# Print accuracy comparison\n",
        "print(\"Accuracy on Raw Data:\", raw_accuracy)\n",
        "print(\"Accuracy on Scaled Data:\", scaled_accuracy)\n"
      ],
      "metadata": {
        "colab": {
          "base_uri": "https://localhost:8080/"
        },
        "id": "cEoR01GnGSIO",
        "outputId": "fe8acf3b-080e-43c7-d69e-512f618311fc"
      },
      "execution_count": 39,
      "outputs": [
        {
          "output_type": "stream",
          "name": "stdout",
          "text": [
            "Accuracy on Raw Data: 0.956140350877193\n",
            "Accuracy on Scaled Data: 0.9736842105263158\n"
          ]
        }
      ]
    },
    {
      "cell_type": "markdown",
      "source": [
        "24.Write a Python program to train Logistic Regression and find the optimal C (regularization strength) using\n",
        "cross-validation"
      ],
      "metadata": {
        "id": "9yN69ALwCus2"
      }
    },
    {
      "cell_type": "code",
      "source": [
        "import pandas as pd\n",
        "import numpy as np\n",
        "from sklearn.model_selection import train_test_split, GridSearchCV\n",
        "from sklearn.linear_model import LogisticRegression\n",
        "from sklearn.datasets import load_digits\n",
        "from sklearn.metrics import accuracy_score\n",
        "\n",
        "# Load dataset\n",
        "digit_data = load_digits()\n",
        "feature_set = pd.DataFrame(digit_data.data)\n",
        "binary_labels = pd.Series(digit_data.target % 2)  # Convert to binary classification\n",
        "\n",
        "# Split dataset\n",
        "X_train, X_test, y_train, y_test = train_test_split(\n",
        "    feature_set, binary_labels, test_size=0.2, random_state=42\n",
        ")\n",
        "\n",
        "# Define hyperparameter grid\n",
        "hyperparams = {'C': np.logspace(-4, 4, 10)}\n",
        "\n",
        "# Apply GridSearchCV to find optimal C value\n",
        "grid_model = GridSearchCV(LogisticRegression(max_iter=1000), hyperparams, cv=5)\n",
        "grid_model.fit(X_train, y_train)\n",
        "\n",
        "# Best model and accuracy\n",
        "optimal_model = grid_model.best_estimator_\n",
        "final_predictions = optimal_model.predict(X_test)\n",
        "\n",
        "print(\"Best Regularization Parameter (C):\", grid_model.best_params_['C'])\n",
        "print(\"Best Model Accuracy:\", accuracy_score(y_test, final_predictions))\n"
      ],
      "metadata": {
        "colab": {
          "base_uri": "https://localhost:8080/"
        },
        "id": "49EufkCIGSba",
        "outputId": "76ba2b29-826f-4aac-923f-af83b25f98dd"
      },
      "execution_count": 40,
      "outputs": [
        {
          "output_type": "stream",
          "name": "stdout",
          "text": [
            "Best Regularization Parameter (C): 0.005994842503189409\n",
            "Best Model Accuracy: 0.9361111111111111\n"
          ]
        }
      ]
    },
    {
      "cell_type": "markdown",
      "source": [
        "25.Write a Python program to train Logistic Regression, save the trained model using joblib, and load it again to\n",
        "make predictions"
      ],
      "metadata": {
        "id": "gDLR3Wi7CulL"
      }
    },
    {
      "cell_type": "code",
      "source": [
        "import pandas as pd\n",
        "import joblib\n",
        "from sklearn.model_selection import train_test_split\n",
        "from sklearn.linear_model import LogisticRegression\n",
        "from sklearn.datasets import load_breast_cancer\n",
        "from sklearn.metrics import accuracy_score\n",
        "\n",
        "# Load dataset\n",
        "breast_cancer_data = load_breast_cancer()\n",
        "features = pd.DataFrame(breast_cancer_data.data, columns=breast_cancer_data.feature_names)\n",
        "target = pd.Series(breast_cancer_data.target)\n",
        "\n",
        "# Split dataset\n",
        "features_train, features_test, target_train, target_test = train_test_split(\n",
        "    features, target, test_size=0.2, random_state=42\n",
        ")\n",
        "\n",
        "# Train Logistic Regression\n",
        "logreg_model = LogisticRegression(max_iter=1000)\n",
        "logreg_model.fit(features_train, target_train)\n",
        "\n",
        "# Save the model\n",
        "joblib.dump(logreg_model, \"logistic_model.pkl\")\n",
        "\n",
        "# Load the model and make predictions\n",
        "loaded_logreg_model = joblib.load(\"logistic_model.pkl\")\n",
        "predicted_labels = loaded_logreg_model.predict(features_test)\n",
        "\n",
        "# Print accuracy\n",
        "print(\"Logistic Regression Accuracy after Loading Model:\", accuracy_score(target_test, predicted_labels))\n"
      ],
      "metadata": {
        "colab": {
          "base_uri": "https://localhost:8080/"
        },
        "id": "27e5RHJ7GTFe",
        "outputId": "601b7353-5557-41a8-b1a4-0cb371fe9b32"
      },
      "execution_count": 41,
      "outputs": [
        {
          "output_type": "stream",
          "name": "stdout",
          "text": [
            "Logistic Regression Accuracy after Loading Model: 0.956140350877193\n"
          ]
        }
      ]
    },
    {
      "cell_type": "markdown",
      "source": [],
      "metadata": {
        "id": "siYkqeDsCuSN"
      }
    }
  ]
}